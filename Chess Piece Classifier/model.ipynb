{
 "cells": [
  {
   "cell_type": "markdown",
   "id": "5ad6a859",
   "metadata": {},
   "source": [
    "# Chess piece classifer model"
   ]
  },
  {
   "cell_type": "code",
   "execution_count": 1,
   "id": "a3ebb682",
   "metadata": {},
   "outputs": [],
   "source": [
    "import matplotlib.pyplot as plt\n",
    "import os\n",
    "import cv2\n",
    "import numpy as np\n",
    "from sklearn.neural_network import MLPClassifier\n",
    "from sklearn.preprocessing import LabelEncoder\n",
    "from joblib import dump\n",
    "from sklearn.model_selection import train_test_split"
   ]
  },
  {
   "cell_type": "code",
   "execution_count": 2,
   "id": "1c2b4aa7",
   "metadata": {},
   "outputs": [],
   "source": [
    "%matplotlib inline"
   ]
  },
  {
   "cell_type": "code",
   "execution_count": 3,
   "id": "a3259752",
   "metadata": {},
   "outputs": [],
   "source": [
    "label_encoder = LabelEncoder()"
   ]
  },
  {
   "cell_type": "markdown",
   "id": "026d10a8",
   "metadata": {},
   "source": [
    "### functions"
   ]
  },
  {
   "cell_type": "code",
   "execution_count": 4,
   "id": "01ced380",
   "metadata": {},
   "outputs": [],
   "source": [
    "# a function to view an image from a numpy array using matplotlib\n",
    "def viewImg(arr,index):\n",
    "    plt.matshow(arr[index], cmap = plt.cm.gray)\n",
    "    plt.xticks(())\n",
    "    plt.yticks(())\n",
    "    plt.show()"
   ]
  },
  {
   "cell_type": "code",
   "execution_count": 5,
   "id": "f310bda2",
   "metadata": {},
   "outputs": [],
   "source": [
    "# a function to reshape a 4 dimensional(4D) numpy array to a 2 dimensional(2D) one\n",
    "def reshape(arr):\n",
    "    num_samples = arr.shape[0]  # Number of samples\n",
    "    image_height = arr.shape[1]  # Height of the image\n",
    "    image_width = arr.shape[2]  # Width of the image\n",
    "    num_channels = arr.shape[3]  # Number of channels (e.g., 3 for RGB)\n",
    "    return arr.reshape(num_samples, image_height * image_width * num_channels)"
   ]
  },
  {
   "cell_type": "code",
   "execution_count": 6,
   "id": "5a9ce533",
   "metadata": {},
   "outputs": [],
   "source": [
    "# a function to get the data of resized images(numpy arrays) using the name of the directory\n",
    "def getData(dataset_dir, width, height):\n",
    "    X = []\n",
    "    y = []\n",
    "    \n",
    "    for folder in os.listdir(dataset_dir):\n",
    "        folder_path = os.path.join(dataset_dir, folder)\n",
    "        if not os.path.isdir(folder_path):\n",
    "            continue\n",
    "\n",
    "        label = folder\n",
    "\n",
    "        for file in os.listdir(folder_path):\n",
    "            file_path = os.path.join(folder_path, file)\n",
    "            if not os.path.isfile(file_path):\n",
    "                continue\n",
    "\n",
    "            img = cv2.imread(file_path)\n",
    "            img = cv2.resize(img, (width, height))\n",
    "\n",
    "            X.append(img)\n",
    "            y.append(label)\n",
    "            \n",
    "    return np.array(X), y"
   ]
  },
  {
   "cell_type": "markdown",
   "id": "80efb26c",
   "metadata": {},
   "source": [
    "## Data processing"
   ]
  },
  {
   "cell_type": "code",
   "execution_count": 7,
   "id": "be506979",
   "metadata": {},
   "outputs": [],
   "source": [
    "X, y = getData(\"data\", 85, 85)#collecting the data\n",
    "X_train, X_test, y_train, y_test = train_test_split(X, y, random_state = 209)"
   ]
  },
  {
   "cell_type": "code",
   "execution_count": 8,
   "id": "5d36f38f",
   "metadata": {},
   "outputs": [],
   "source": [
    "#processing the training data\n",
    "X_train_reshaped = reshape(X_train)\n",
    "y_train_encoded = label_encoder.fit_transform(y_train)\n",
    "\n",
    "#processing the testing data\n",
    "X_test_reshaped = reshape(X_test)\n",
    "y_test_encoded = label_encoder.fit_transform(y_test)"
   ]
  },
  {
   "cell_type": "markdown",
   "id": "c0ef129a",
   "metadata": {},
   "source": [
    "## Training the model"
   ]
  },
  {
   "cell_type": "code",
   "execution_count": 9,
   "id": "7687adfc",
   "metadata": {},
   "outputs": [],
   "source": [
    "model = MLPClassifier(solver = \"adam\", activation = \"relu\", max_iter = 1000)"
   ]
  },
  {
   "cell_type": "code",
   "execution_count": 10,
   "id": "a9c49026",
   "metadata": {},
   "outputs": [
    {
     "data": {
      "text/plain": [
       "MLPClassifier(max_iter=1000)"
      ]
     },
     "execution_count": 10,
     "metadata": {},
     "output_type": "execute_result"
    }
   ],
   "source": [
    "model.fit(X_train_reshaped, y_train_encoded)"
   ]
  },
  {
   "cell_type": "markdown",
   "id": "6037ea4e",
   "metadata": {},
   "source": [
    "## Testing the model"
   ]
  },
  {
   "cell_type": "code",
   "execution_count": 11,
   "id": "5dbc3c7c",
   "metadata": {},
   "outputs": [
    {
     "data": {
      "text/plain": [
       "0.6587301587301587"
      ]
     },
     "execution_count": 11,
     "metadata": {},
     "output_type": "execute_result"
    }
   ],
   "source": [
    "model.score(X_test_reshaped,y_test_encoded)#Printing the score of the model using the test data"
   ]
  },
  {
   "cell_type": "markdown",
   "id": "45d8d1bb",
   "metadata": {},
   "source": [
    "### Testing using an image "
   ]
  },
  {
   "cell_type": "code",
   "execution_count": 14,
   "id": "857da581",
   "metadata": {},
   "outputs": [
    {
     "name": "stdout",
     "output_type": "stream",
     "text": [
      "[2]\n"
     ]
    }
   ],
   "source": [
    "print(model.predict([X_test_reshaped[32]]))#predicting the output"
   ]
  },
  {
   "cell_type": "code",
   "execution_count": 15,
   "id": "490c74d9",
   "metadata": {},
   "outputs": [
    {
     "data": {
      "text/plain": [
       "array(['knight'], dtype='<U6')"
      ]
     },
     "execution_count": 15,
     "metadata": {},
     "output_type": "execute_result"
    }
   ],
   "source": [
    "label_encoder.inverse_transform([2])#decoding the endoded predicted output of the model"
   ]
  },
  {
   "cell_type": "code",
   "execution_count": 16,
   "id": "a6d4bb9c",
   "metadata": {},
   "outputs": [
    {
     "data": {
      "image/png": "[encoded data removed]",
      "text/plain": [
       "<Figure size 480x480 with 1 Axes>"
      ]
     },
     "metadata": {},
     "output_type": "display_data"
    }
   ],
   "source": [
    "viewImg(X_test, 32)"
   ]
  },
  {
   "cell_type": "code",
   "execution_count": 13,
   "id": "29d156e2",
   "metadata": {},
   "outputs": [
    {
     "data": {
      "text/plain": [
       "['savedModel.pkl']"
      ]
     },
     "execution_count": 13,
     "metadata": {},
     "output_type": "execute_result"
    }
   ],
   "source": [
    "dump(model, \"savedModel.pkl\")"
   ]
  }
 ],
 "metadata": {
  "kernelspec": {
   "display_name": "Python 3 (ipykernel)",
   "language": "python",
   "name": "python3"
  },
  "language_info": {
   "codemirror_mode": {
    "name": "ipython",
    "version": 3
   },
   "file_extension": ".py",
   "mimetype": "text/x-python",
   "name": "python",
   "nbconvert_exporter": "python",
   "pygments_lexer": "ipython3",
   "version": "3.9.7"
  }
 },
 "nbformat": 4,
 "nbformat_minor": 5
}
