{
 "cells": [
  {
   "cell_type": "markdown",
   "id": "58c09a59",
   "metadata": {},
   "source": [
    "# Vehicle Image Classification Model (Neural Network)"
   ]
  },
  {
   "cell_type": "code",
   "execution_count": 2,
   "id": "bb7fb1f8",
   "metadata": {},
   "outputs": [],
   "source": [
    "import matplotlib.pyplot as plt\n",
    "import os\n",
    "import cv2\n",
    "import numpy as np\n",
    "from sklearn.neural_network import MLPClassifier\n",
    "from sklearn.preprocessing import LabelEncoder"
   ]
  },
  {
   "cell_type": "code",
   "execution_count": 3,
   "id": "4c2a07c5",
   "metadata": {},
   "outputs": [],
   "source": [
    "%matplotlib inline"
   ]
  },
  {
   "cell_type": "code",
   "execution_count": 4,
   "id": "6fb47d8d",
   "metadata": {},
   "outputs": [],
   "source": [
    "label_encoder = LabelEncoder()"
   ]
  },
  {
   "cell_type": "markdown",
   "id": "ad772aaa",
   "metadata": {},
   "source": [
    "### Functions"
   ]
  },
  {
   "cell_type": "code",
   "execution_count": 5,
   "id": "ad089554",
   "metadata": {},
   "outputs": [],
   "source": [
    "# a function to view an image from a numpy array using matplotlib\n",
    "def viewImg(arr,index):\n",
    "    plt.matshow(arr[index], cmap = plt.cm.gray)\n",
    "    plt.xticks(())\n",
    "    plt.yticks(())\n",
    "    plt.show()"
   ]
  },
  {
   "cell_type": "code",
   "execution_count": 6,
   "id": "617ec868",
   "metadata": {},
   "outputs": [],
   "source": [
    "# a function to reshape a 4 dimensional(4D) numpy array to a 2 dimensional(2D) one\n",
    "def reshape(arr):\n",
    "    num_samples = arr.shape[0]  # Number of samples\n",
    "    image_height = arr.shape[1]  # Height of the image\n",
    "    image_width = arr.shape[2]  # Width of the image\n",
    "    num_channels = arr.shape[3]  # Number of channels (e.g., 3 for RGB)\n",
    "    return arr.reshape(num_samples, image_height * image_width * num_channels)"
   ]
  },
  {
   "cell_type": "code",
   "execution_count": 7,
   "id": "ec319b7d",
   "metadata": {},
   "outputs": [],
   "source": [
    "# a function to get the data of resized images(numpy arrays) using the name of the directory\n",
    "def getData(dataset_dir, width, height):\n",
    "    X = []\n",
    "    y = []\n",
    "    \n",
    "    for folder in os.listdir(dataset_dir):\n",
    "        folder_path = os.path.join(dataset_dir, folder)\n",
    "        if not os.path.isdir(folder_path):\n",
    "            continue\n",
    "\n",
    "        label = folder\n",
    "\n",
    "        for file in os.listdir(folder_path):\n",
    "            file_path = os.path.join(folder_path, file)\n",
    "            if not os.path.isfile(file_path):\n",
    "                continue\n",
    "\n",
    "            img = cv2.imread(file_path)\n",
    "            img = cv2.resize(img, (width, height))\n",
    "\n",
    "            X.append(img)\n",
    "            y.append(label)\n",
    "            \n",
    "    return np.array(X), y"
   ]
  },
  {
   "cell_type": "markdown",
   "id": "c06914a9",
   "metadata": {},
   "source": [
    "## Collecting and processing data(training and testing)"
   ]
  },
  {
   "cell_type": "code",
   "execution_count": 94,
   "id": "f0f3ee52",
   "metadata": {},
   "outputs": [],
   "source": [
    "X_train, y_train = getData(\"data/train\", 50, 50)#collecting the training data\n",
    "X_test, y_test = getData(\"data/test\", 50, 50)#collecting the testing data"
   ]
  },
  {
   "cell_type": "code",
   "execution_count": 95,
   "id": "8aff5264",
   "metadata": {},
   "outputs": [],
   "source": [
    "#processing the training data\n",
    "X_train_reshaped = reshape(X_train)\n",
    "y_train_encoded = label_encoder.fit_transform(y_train)\n",
    "\n",
    "#processing the testing data\n",
    "X_test_reshaped = reshape(X_test)\n",
    "y_test_encoded = label_encoder.fit_transform(y_test)"
   ]
  },
  {
   "cell_type": "markdown",
   "id": "8fb555a4",
   "metadata": {},
   "source": [
    "### Viewing the data"
   ]
  },
  {
   "cell_type": "code",
   "execution_count": 96,
   "id": "400afe83",
   "metadata": {},
   "outputs": [
    {
     "data": {
      "image/png": "[encoded data removed]",
      "text/plain": [
       "<Figure size 480x480 with 1 Axes>"
      ]
     },
     "metadata": {},
     "output_type": "display_data"
    }
   ],
   "source": [
    "viewImg(X_train,323)"
   ]
  },
  {
   "cell_type": "code",
   "execution_count": 97,
   "id": "9af9fd61",
   "metadata": {},
   "outputs": [
    {
     "data": {
      "text/plain": [
       "'plane'"
      ]
     },
     "execution_count": 97,
     "metadata": {},
     "output_type": "execute_result"
    }
   ],
   "source": [
    "y_train[323]"
   ]
  },
  {
   "cell_type": "markdown",
   "id": "1d22f746",
   "metadata": {},
   "source": [
    "## Training the model"
   ]
  },
  {
   "cell_type": "code",
   "execution_count": 127,
   "id": "040c177b",
   "metadata": {},
   "outputs": [],
   "source": [
    "model = MLPClassifier(solver = \"adam\", activation = \"relu\", hidden_layer_sizes = (128, 128, 128), max_iter = 1000)"
   ]
  },
  {
   "cell_type": "code",
   "execution_count": 128,
   "id": "eb0cce19",
   "metadata": {
    "scrolled": true
   },
   "outputs": [
    {
     "data": {
      "text/plain": [
       "MLPClassifier(hidden_layer_sizes=(128, 128, 128), max_iter=1000)"
      ]
     },
     "execution_count": 128,
     "metadata": {},
     "output_type": "execute_result"
    }
   ],
   "source": [
    "model.fit(X_train_reshaped, y_train_encoded)"
   ]
  },
  {
   "cell_type": "markdown",
   "id": "8dbcf551",
   "metadata": {},
   "source": [
    "## Evaluating the model "
   ]
  },
  {
   "cell_type": "code",
   "execution_count": 129,
   "id": "95cdd581",
   "metadata": {},
   "outputs": [
    {
     "data": {
      "text/plain": [
       "0.3472222222222222"
      ]
     },
     "execution_count": 129,
     "metadata": {},
     "output_type": "execute_result"
    }
   ],
   "source": [
    "model.score(X_test_reshaped,y_test_encoded)#Printing the score of the model using the test data(I know its too low)"
   ]
  },
  {
   "cell_type": "markdown",
   "id": "2092a166",
   "metadata": {},
   "source": [
    "### Testing using an image(multiple times)"
   ]
  },
  {
   "cell_type": "code",
   "execution_count": 144,
   "id": "2923232a",
   "metadata": {},
   "outputs": [
    {
     "data": {
      "text/plain": [
       "array([2], dtype=int32)"
      ]
     },
     "execution_count": 144,
     "metadata": {},
     "output_type": "execute_result"
    }
   ],
   "source": [
    "model.predict([X_test_reshaped[18]])#predicting the output"
   ]
  },
  {
   "cell_type": "code",
   "execution_count": 145,
   "id": "e2904241",
   "metadata": {},
   "outputs": [
    {
     "data": {
      "text/plain": [
       "array(['bus'], dtype='<U10')"
      ]
     },
     "execution_count": 145,
     "metadata": {},
     "output_type": "execute_result"
    }
   ],
   "source": [
    "label_encoder.inverse_transform([2])#decoding the endoded predicted output of the model"
   ]
  },
  {
   "cell_type": "code",
   "execution_count": 146,
   "id": "5989ed59",
   "metadata": {},
   "outputs": [
    {
     "data": {
      "image/png": "[encoded data removed]",
      "text/plain": [
       "<Figure size 480x480 with 1 Axes>"
      ]
     },
     "metadata": {},
     "output_type": "display_data"
    }
   ],
   "source": [
    "viewImg(X_test, 18)"
   ]
  }
 ],
 "metadata": {
  "kernelspec": {
   "display_name": "Python 3 (ipykernel)",
   "language": "python",
   "name": "python3"
  },
  "language_info": {
   "codemirror_mode": {
    "name": "ipython",
    "version": 3
   },
   "file_extension": ".py",
   "mimetype": "text/x-python",
   "name": "python",
   "nbconvert_exporter": "python",
   "pygments_lexer": "ipython3",
   "version": "3.9.7"
  }
 },
 "nbformat": 4,
 "nbformat_minor": 5
}
