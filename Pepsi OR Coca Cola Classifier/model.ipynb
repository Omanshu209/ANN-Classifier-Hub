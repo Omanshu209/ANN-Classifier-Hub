{
 "cells": [
  {
   "cell_type": "markdown",
   "id": "4c148588",
   "metadata": {},
   "source": [
    "# Pepsi OR Coca Cola Classifier"
   ]
  },
  {
   "cell_type": "code",
   "execution_count": 1,
   "id": "d69f1869",
   "metadata": {},
   "outputs": [],
   "source": [
    "import matplotlib.pyplot as plt\n",
    "import os\n",
    "import cv2\n",
    "import numpy as np\n",
    "from sklearn.neural_network import MLPClassifier\n",
    "from sklearn.preprocessing import LabelEncoder\n",
    "from joblib import dump"
   ]
  },
  {
   "cell_type": "code",
   "execution_count": 2,
   "id": "14fb4bdc",
   "metadata": {},
   "outputs": [],
   "source": [
    "%matplotlib inline"
   ]
  },
  {
   "cell_type": "code",
   "execution_count": 3,
   "id": "e0c48cec",
   "metadata": {},
   "outputs": [],
   "source": [
    "label_encoder = LabelEncoder()"
   ]
  },
  {
   "cell_type": "markdown",
   "id": "86e96408",
   "metadata": {},
   "source": [
    "## functions"
   ]
  },
  {
   "cell_type": "code",
   "execution_count": 4,
   "id": "05934f1e",
   "metadata": {},
   "outputs": [],
   "source": [
    "# a function to view an image from a numpy array using matplotlib\n",
    "def viewImg(arr,index):\n",
    "    plt.matshow(arr[index], cmap = plt.cm.gray)\n",
    "    plt.xticks(())\n",
    "    plt.yticks(())\n",
    "    plt.show()"
   ]
  },
  {
   "cell_type": "code",
   "execution_count": 5,
   "id": "679afb4c",
   "metadata": {},
   "outputs": [],
   "source": [
    "# a function to reshape a 4 dimensional(4D) numpy array to a 2 dimensional(2D) one\n",
    "def reshape(arr):\n",
    "    num_samples = arr.shape[0]  # Number of samples\n",
    "    image_height = arr.shape[1]  # Height of the image\n",
    "    image_width = arr.shape[2]  # Width of the image\n",
    "    num_channels = arr.shape[3]  # Number of channels (e.g., 3 for RGB)\n",
    "    return arr.reshape(num_samples, image_height * image_width * num_channels)"
   ]
  },
  {
   "cell_type": "code",
   "execution_count": 6,
   "id": "1fc51427",
   "metadata": {},
   "outputs": [],
   "source": [
    "# a function to get the data of resized images(numpy arrays) using the name of the directory\n",
    "def getData(dataset_dir, width, height):\n",
    "    X = []\n",
    "    y = []\n",
    "    \n",
    "    for folder in os.listdir(dataset_dir):\n",
    "        folder_path = os.path.join(dataset_dir, folder)\n",
    "        if not os.path.isdir(folder_path):\n",
    "            continue\n",
    "\n",
    "        label = folder\n",
    "\n",
    "        for file in os.listdir(folder_path):\n",
    "            file_path = os.path.join(folder_path, file)\n",
    "            if not os.path.isfile(file_path):\n",
    "                continue\n",
    "\n",
    "            img = cv2.imread(file_path)\n",
    "            img = cv2.resize(img, (width, height))\n",
    "\n",
    "            X.append(img)\n",
    "            y.append(label)\n",
    "            \n",
    "    return np.array(X), y"
   ]
  },
  {
   "cell_type": "markdown",
   "id": "03c51ee5",
   "metadata": {},
   "source": [
    "## Data Processing"
   ]
  },
  {
   "cell_type": "code",
   "execution_count": 7,
   "id": "554ba4f9",
   "metadata": {},
   "outputs": [],
   "source": [
    "X_train, y_train = getData(\"data/train\", 70, 80)#collecting the training data\n",
    "X_test, y_test = getData(\"data/test\", 70, 80)#collecting the testing data"
   ]
  },
  {
   "cell_type": "code",
   "execution_count": 8,
   "id": "2d562dfe",
   "metadata": {},
   "outputs": [],
   "source": [
    "#processing the training data\n",
    "X_train_reshaped = reshape(X_train)\n",
    "y_train_encoded = label_encoder.fit_transform(y_train)\n",
    "\n",
    "#processing the testing data\n",
    "X_test_reshaped = reshape(X_test)\n",
    "y_test_encoded = label_encoder.fit_transform(y_test)"
   ]
  },
  {
   "cell_type": "markdown",
   "id": "0457b71e",
   "metadata": {},
   "source": [
    "### Viewing the data"
   ]
  },
  {
   "cell_type": "code",
   "execution_count": 15,
   "id": "d98c40ed",
   "metadata": {},
   "outputs": [
    {
     "data": {
      "image/png": "[encoded data removed]",
      "text/plain": [
       "<Figure size 420x480 with 1 Axes>"
      ]
     },
     "metadata": {},
     "output_type": "display_data"
    }
   ],
   "source": [
    "viewImg(X_train,201)"
   ]
  },
  {
   "cell_type": "code",
   "execution_count": 16,
   "id": "aa07e07c",
   "metadata": {},
   "outputs": [
    {
     "data": {
      "text/plain": [
       "'pepsi'"
      ]
     },
     "execution_count": 16,
     "metadata": {},
     "output_type": "execute_result"
    }
   ],
   "source": [
    "y_train[201]"
   ]
  },
  {
   "cell_type": "markdown",
   "id": "16689711",
   "metadata": {},
   "source": [
    "## Training the model"
   ]
  },
  {
   "cell_type": "code",
   "execution_count": 17,
   "id": "f0d13ca1",
   "metadata": {},
   "outputs": [],
   "source": [
    "model = MLPClassifier(solver = \"adam\", activation = \"relu\", max_iter = 1000)"
   ]
  },
  {
   "cell_type": "code",
   "execution_count": 25,
   "id": "f2ce0ab7",
   "metadata": {
    "scrolled": true
   },
   "outputs": [
    {
     "data": {
      "text/plain": [
       "MLPClassifier(max_iter=1000)"
      ]
     },
     "execution_count": 25,
     "metadata": {},
     "output_type": "execute_result"
    }
   ],
   "source": [
    "model.fit(X_train_reshaped, y_train_encoded)"
   ]
  },
  {
   "cell_type": "markdown",
   "id": "81c3a6b3",
   "metadata": {},
   "source": [
    "## Testing the model"
   ]
  },
  {
   "cell_type": "code",
   "execution_count": 26,
   "id": "3fbbdfe5",
   "metadata": {},
   "outputs": [
    {
     "data": {
      "text/plain": [
       "0.9"
      ]
     },
     "execution_count": 26,
     "metadata": {},
     "output_type": "execute_result"
    }
   ],
   "source": [
    "model.score(X_test_reshaped,y_test_encoded)#Printing the score of the model using the test data"
   ]
  },
  {
   "cell_type": "markdown",
   "id": "7990afcd",
   "metadata": {},
   "source": [
    "### Testing using an image"
   ]
  },
  {
   "cell_type": "code",
   "execution_count": 30,
   "id": "f6c56268",
   "metadata": {},
   "outputs": [
    {
     "data": {
      "text/plain": [
       "array([1], dtype=int32)"
      ]
     },
     "execution_count": 30,
     "metadata": {},
     "output_type": "execute_result"
    }
   ],
   "source": [
    "model.predict([X_test_reshaped[43]])#predicting the output"
   ]
  },
  {
   "cell_type": "code",
   "execution_count": 31,
   "id": "6c63c037",
   "metadata": {},
   "outputs": [
    {
     "data": {
      "text/plain": [
       "array(['pepsi'], dtype='<U8')"
      ]
     },
     "execution_count": 31,
     "metadata": {},
     "output_type": "execute_result"
    }
   ],
   "source": [
    "label_encoder.inverse_transform([1])#decoding the endoded predicted output of the model"
   ]
  },
  {
   "cell_type": "code",
   "execution_count": 32,
   "id": "dff8d15d",
   "metadata": {},
   "outputs": [
    {
     "data": {
      "image/png": "[encoded data removed]",
      "text/plain": [
       "<Figure size 420x480 with 1 Axes>"
      ]
     },
     "metadata": {},
     "output_type": "display_data"
    }
   ],
   "source": [
    "viewImg(X_test, 43)"
   ]
  },
  {
   "cell_type": "markdown",
   "id": "21686465",
   "metadata": {},
   "source": [
    "## Saving the model"
   ]
  },
  {
   "cell_type": "code",
   "execution_count": 33,
   "id": "e44eb627",
   "metadata": {},
   "outputs": [
    {
     "data": {
      "text/plain": [
       "['savedModel.pkl']"
      ]
     },
     "execution_count": 33,
     "metadata": {},
     "output_type": "execute_result"
    }
   ],
   "source": [
    "dump(model, \"savedModel.pkl\")"
   ]
  }
 ],
 "metadata": {
  "kernelspec": {
   "display_name": "Python 3 (ipykernel)",
   "language": "python",
   "name": "python3"
  },
  "language_info": {
   "codemirror_mode": {
    "name": "ipython",
    "version": 3
   },
   "file_extension": ".py",
   "mimetype": "text/x-python",
   "name": "python",
   "nbconvert_exporter": "python",
   "pygments_lexer": "ipython3",
   "version": "3.9.7"
  }
 },
 "nbformat": 4,
 "nbformat_minor": 5
}
