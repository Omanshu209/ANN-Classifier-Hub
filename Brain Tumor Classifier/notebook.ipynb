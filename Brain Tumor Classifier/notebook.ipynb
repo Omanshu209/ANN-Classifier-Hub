{
 "cells": [
  {
   "cell_type": "markdown",
   "id": "c603141e",
   "metadata": {},
   "source": [
    "# Brain Tumor Classifier"
   ]
  },
  {
   "cell_type": "code",
   "execution_count": 41,
   "id": "97d912be",
   "metadata": {},
   "outputs": [],
   "source": [
    "#import pandas as pd\n",
    "import os\n",
    "import matplotlib.pyplot as plt\n",
    "import cv2\n",
    "import numpy as np\n",
    "from sklearn.neural_network import MLPClassifier\n",
    "from joblib import dump\n",
    "from sklearn.model_selection import train_test_split\n",
    "from sklearn.metrics import precision_score, recall_score"
   ]
  },
  {
   "cell_type": "code",
   "execution_count": 2,
   "id": "126285c1",
   "metadata": {},
   "outputs": [],
   "source": [
    "%matplotlib inline"
   ]
  },
  {
   "cell_type": "markdown",
   "id": "fc18ffa4",
   "metadata": {},
   "source": [
    "## functions"
   ]
  },
  {
   "cell_type": "code",
   "execution_count": 3,
   "id": "b0862729",
   "metadata": {},
   "outputs": [],
   "source": [
    "# a function to view an image from a numpy array using matplotlib\n",
    "def viewImg(arr,index):\n",
    "    plt.matshow(arr[index], cmap = plt.cm.gray)\n",
    "    plt.xticks(())\n",
    "    plt.yticks(())\n",
    "    plt.show()"
   ]
  },
  {
   "cell_type": "code",
   "execution_count": 4,
   "id": "dcc17016",
   "metadata": {},
   "outputs": [],
   "source": [
    "# a function to reshape a 4 dimensional(4D) numpy array to a 2 dimensional(2D) one\n",
    "def reshape(arr):\n",
    "    num_samples = arr.shape[0]  # Number of samples\n",
    "    image_height = arr.shape[1]  # Height of the image\n",
    "    image_width = arr.shape[2]  # Width of the image\n",
    "    num_channels = arr.shape[3]  # Number of channels (e.g., 3 for RGB)\n",
    "    return arr.reshape(num_samples, image_height * image_width * num_channels)"
   ]
  },
  {
   "cell_type": "code",
   "execution_count": 5,
   "id": "d809408e",
   "metadata": {},
   "outputs": [],
   "source": [
    "# a function to get the data of resized images(numpy arrays) using the name of the directory\n",
    "def getData(dataset_dir, width, height, maxImg):\n",
    "    X = []\n",
    "    y = []\n",
    "    \n",
    "    for folder in os.listdir(dataset_dir):\n",
    "        folder_path = os.path.join(dataset_dir, folder)\n",
    "        if not os.path.isdir(folder_path):\n",
    "            continue\n",
    "\n",
    "        label = folder\n",
    "        \n",
    "        i = 1\n",
    "        for file in os.listdir(folder_path):\n",
    "            if i > maxImg:\n",
    "                break\n",
    "            \n",
    "            file_path = os.path.join(folder_path, file)\n",
    "            if not os.path.isfile(file_path):\n",
    "                continue\n",
    "\n",
    "            img = cv2.imread(file_path)\n",
    "            img = cv2.resize(img, (width, height))\n",
    "\n",
    "            X.append(img)\n",
    "            y.append(label)\n",
    "            \n",
    "            i += 1\n",
    "            \n",
    "    return np.array(X), y"
   ]
  },
  {
   "cell_type": "markdown",
   "id": "4f83f4c5",
   "metadata": {},
   "source": [
    "## Data processing"
   ]
  },
  {
   "cell_type": "code",
   "execution_count": 6,
   "id": "e3283bae",
   "metadata": {},
   "outputs": [
    {
     "data": {
      "text/plain": [
       "'\\ndf = pd.read_csv(\"Brain Tumor.csv\")\\ndf.describe()\\n\\nfor i in range(3762):\\n    old_path = os.getcwd() + f\"/data/{df[\\'Image\\'][i]}.jpg\"\\n    new_path = os.getcwd() + f\"/data/{df[\\'Class\\'][i]}/{df[\\'Image\\'][i]}.jpg\"\\n    os.rename(old_path, new_path)\\n'"
      ]
     },
     "execution_count": 6,
     "metadata": {},
     "output_type": "execute_result"
    }
   ],
   "source": [
    "'''\n",
    "df = pd.read_csv(\"Brain Tumor.csv\")\n",
    "df.describe()\n",
    "\n",
    "for i in range(3762):\n",
    "    old_path = os.getcwd() + f\"/data/{df['Image'][i]}.jpg\"\n",
    "    new_path = os.getcwd() + f\"/data/{df['Class'][i]}/{df['Image'][i]}.jpg\"\n",
    "    os.rename(old_path, new_path)\n",
    "'''"
   ]
  },
  {
   "cell_type": "code",
   "execution_count": 7,
   "id": "8e98bbbd",
   "metadata": {},
   "outputs": [],
   "source": [
    "X, y = getData(\"data\", 100, 100, 500)#collecting the data\n",
    "X_train, X_test, y_train, y_test = train_test_split(X, y, random_state = 209)"
   ]
  },
  {
   "cell_type": "code",
   "execution_count": 8,
   "id": "e4cb4ff0",
   "metadata": {},
   "outputs": [],
   "source": [
    "#processing the training data\n",
    "X_train_reshaped = reshape(X_train)\n",
    "\n",
    "for i, c in enumerate(y_train):\n",
    "    y_train[i] = int(y_train[i])\n",
    "\n",
    "#processing the testing data\n",
    "X_test_reshaped = reshape(X_test)\n",
    "\n",
    "for i, c in enumerate(y_test):\n",
    "    y_test[i] = int(y_test[i])"
   ]
  },
  {
   "cell_type": "markdown",
   "id": "f3ae3837",
   "metadata": {},
   "source": [
    "### Viewing the data"
   ]
  },
  {
   "cell_type": "code",
   "execution_count": 9,
   "id": "14977efc",
   "metadata": {},
   "outputs": [
    {
     "data": {
      "image/png": "[encoded data removed]",
      "text/plain": [
       "<Figure size 480x480 with 1 Axes>"
      ]
     },
     "metadata": {},
     "output_type": "display_data"
    }
   ],
   "source": [
    "viewImg(X_train,171)"
   ]
  },
  {
   "cell_type": "code",
   "execution_count": 10,
   "id": "9a82623b",
   "metadata": {
    "scrolled": true
   },
   "outputs": [
    {
     "data": {
      "text/plain": [
       "0"
      ]
     },
     "execution_count": 10,
     "metadata": {},
     "output_type": "execute_result"
    }
   ],
   "source": [
    "y_train[171]"
   ]
  },
  {
   "cell_type": "markdown",
   "id": "3d4c9ad0",
   "metadata": {},
   "source": [
    "## Training the model"
   ]
  },
  {
   "cell_type": "code",
   "execution_count": 26,
   "id": "90094db7",
   "metadata": {},
   "outputs": [],
   "source": [
    "model = MLPClassifier(\n",
    "    solver = \"adam\", \n",
    "    activation = \"relu\", \n",
    "    max_iter = 1000\n",
    ")"
   ]
  },
  {
   "cell_type": "code",
   "execution_count": 27,
   "id": "401d669a",
   "metadata": {},
   "outputs": [
    {
     "data": {
      "text/plain": [
       "MLPClassifier(max_iter=1000)"
      ]
     },
     "execution_count": 27,
     "metadata": {},
     "output_type": "execute_result"
    }
   ],
   "source": [
    "model.fit(X_train_reshaped, y_train)"
   ]
  },
  {
   "cell_type": "markdown",
   "id": "4400e31e",
   "metadata": {},
   "source": [
    "## Evaluating the model"
   ]
  },
  {
   "cell_type": "code",
   "execution_count": 51,
   "id": "e2a00b01",
   "metadata": {},
   "outputs": [
    {
     "name": "stdout",
     "output_type": "stream",
     "text": [
      "Accuracy Score : 0.832 \n"
     ]
    }
   ],
   "source": [
    "print(f\"Accuracy Score : { model.score(X_test_reshaped,y_test) } \")#Printing the score of the model using the test data"
   ]
  },
  {
   "cell_type": "code",
   "execution_count": 47,
   "id": "fdc6dc70",
   "metadata": {},
   "outputs": [
    {
     "name": "stdout",
     "output_type": "stream",
     "text": [
      "Precision Score : 0.8725490196078431\n",
      "Recall Score : 0.7542372881355932\n"
     ]
    }
   ],
   "source": [
    "y_pred = model.predict(X_test_reshaped)\n",
    "print(f\"Precision Score : { precision_score(y_test, y_pred) }\")\n",
    "print(f\"Recall Score : { recall_score(y_test, y_pred) }\")"
   ]
  },
  {
   "cell_type": "markdown",
   "id": "6db8bcc2",
   "metadata": {},
   "source": [
    "## Testing using an image"
   ]
  },
  {
   "cell_type": "code",
   "execution_count": 53,
   "id": "f80d8f9b",
   "metadata": {},
   "outputs": [
    {
     "data": {
      "text/plain": [
       "array([1])"
      ]
     },
     "execution_count": 53,
     "metadata": {},
     "output_type": "execute_result"
    }
   ],
   "source": [
    "model.predict([X_test_reshaped[173]])#predicting the value"
   ]
  },
  {
   "cell_type": "code",
   "execution_count": 54,
   "id": "87ceae0f",
   "metadata": {},
   "outputs": [
    {
     "data": {
      "text/plain": [
       "1"
      ]
     },
     "execution_count": 54,
     "metadata": {},
     "output_type": "execute_result"
    }
   ],
   "source": [
    "y_test[173]#actual value"
   ]
  },
  {
   "cell_type": "code",
   "execution_count": 55,
   "id": "4bdc7611",
   "metadata": {},
   "outputs": [
    {
     "data": {
      "image/png": "[encoded data removed]",
      "text/plain": [
       "<Figure size 480x480 with 1 Axes>"
      ]
     },
     "metadata": {},
     "output_type": "display_data"
    }
   ],
   "source": [
    "viewImg(X_test, 173)#viewing the image"
   ]
  },
  {
   "cell_type": "markdown",
   "id": "1521ca8a",
   "metadata": {},
   "source": [
    "## Saving the model"
   ]
  },
  {
   "cell_type": "code",
   "execution_count": 32,
   "id": "f6a7d31c",
   "metadata": {},
   "outputs": [
    {
     "data": {
      "text/plain": [
       "['savedModel.pkl']"
      ]
     },
     "execution_count": 32,
     "metadata": {},
     "output_type": "execute_result"
    }
   ],
   "source": [
    "dump(model, \"savedModel.pkl\")"
   ]
  }
 ],
 "metadata": {
  "kernelspec": {
   "display_name": "Python 3 (ipykernel)",
   "language": "python",
   "name": "python3"
  },
  "language_info": {
   "codemirror_mode": {
    "name": "ipython",
    "version": 3
   },
   "file_extension": ".py",
   "mimetype": "text/x-python",
   "name": "python",
   "nbconvert_exporter": "python",
   "pygments_lexer": "ipython3",
   "version": "3.9.7"
  }
 },
 "nbformat": 4,
 "nbformat_minor": 5
}
